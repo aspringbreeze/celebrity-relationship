{
 "cells": [
  {
   "cell_type": "code",
   "execution_count": 2,
   "id": "3c22c04f",
   "metadata": {},
   "outputs": [],
   "source": [
    "import sqlite3\n",
    "import pandas as pd"
   ]
  },
  {
   "cell_type": "code",
   "execution_count": 3,
   "id": "1b3239e3",
   "metadata": {},
   "outputs": [],
   "source": [
    "sql_connect = sqlite3.connect('people_info.db')\n",
    "cursor = sql_connect.cursor()"
   ]
  },
  {
   "cell_type": "code",
   "execution_count": 4,
   "id": "f68a2da9",
   "metadata": {},
   "outputs": [],
   "source": [
    "def find_id(name: str):\n",
    "    query = f\"\"\"select id from people where name = '{name}';\"\"\"\n",
    "    results = cursor.execute(query).fetchone()\n",
    "    idx = results[0]\n",
    "    return idx"
   ]
  },
  {
   "cell_type": "code",
   "execution_count": 5,
   "id": "1ef9334d",
   "metadata": {},
   "outputs": [
    {
     "data": {
      "text/plain": [
       "1"
      ]
     },
     "execution_count": 5,
     "metadata": {},
     "output_type": "execute_result"
    }
   ],
   "source": [
    "a = find_id('FEI WANG')\n",
    "a"
   ]
  },
  {
   "cell_type": "code",
   "execution_count": 6,
   "id": "5b6a9a9c",
   "metadata": {},
   "outputs": [],
   "source": [
    "query = f\"\"\"INSERT INTO relationships(id, id_1, id_2, relationship)\n",
    "            VALUES\n",
    "                (009, {find_id('NINGFENG SONG')}, {find_id('XI QI')}, 'EXSPOUSE'),\n",
    "                (010, {find_id('NINGFENG SONG')}, {find_id('YUAN GAO')}, 'BROTHER'),\n",
    "                (011, {find_id('YADONG ZHANG')}, {find_id('YUANYUAN GAO')}, 'EXLOVER'),\n",
    "                (012, {find_id('YADONG ZHANG')}, {find_id('YING DOU')}, 'EXSPOUSE'),\n",
    "                (013, {find_id('YADONG ZHANG')}, {find_id('YING QU')}, 'EXLOVER'),\n",
    "                (014, {find_id('YING DOU')}, {find_id('YADONG ZHANG')}, 'EXSPOUSE'),\n",
    "                (015, {find_id('YING DOU')}, {find_id('WEI DOU')}, 'EXSPOUSE'),\n",
    "                (016, {find_id('WEI DOU')}, {find_id('YUAN GAO')}, 'EXSPOUSE'),\n",
    "                (017, {find_id('WEI DOU')}, {find_id('YING DOU')}, 'BROTHER'),\n",
    "                (018, {find_id('WEI DOU')}, {find_id('FEI WANG')}, 'EXSPOUSE'),\n",
    "                (019, {find_id('WEI DOU')}, {find_id('SHU LUAN')}, 'EXFRIEND'),\n",
    "                (020, {find_id('WEI DOU')}, {find_id('PENG DOU')}, 'BROTHER'),\n",
    "                (021, {find_id('FEI WANG')}, {find_id('TINGFENG XIE')}, 'LOVER'),\n",
    "                (022, {find_id('FEI WANG')}, {find_id('JINGTONG DOU')}, 'MOTHER'),\n",
    "                (023, {find_id('FEI WANG')}, {find_id('XUN ZHOU')}, 'FRIEND'),\n",
    "                (024, {find_id('FEI WANG')}, {find_id('YAPENG LI')}, 'EXSPOUSE'),\n",
    "                (025, {find_id('FEI WANG')}, {find_id('SHU LUAN')}, 'EXLOVER'),\n",
    "                (026, {find_id('GUANXI CHEN')}, {find_id('TINGFENG XIE')}, 'EXFRIEND'),\n",
    "                (027, {find_id('TINGFENG XIE')}, {find_id('FEI WANG')}, 'LOVER'),\n",
    "                (028, {find_id('TINGFENG XIE')}, {find_id('GUANXI CHEN')}, 'EXFRIEND'),\n",
    "                (029, {find_id('SHU LUAN')}, {find_id('FEI WANG')}, 'EXLOVER'),\n",
    "                (030, {find_id('SHU LUAN')}, {find_id('WEI DOU')}, 'EXFRIEND'),\n",
    "                (031, {find_id('JINGTONG DOU')}, {find_id('WEI DOU')}, 'DAUGHTER'),\n",
    "                (032, {find_id('JINGTONG DOU')}, {find_id('MAI ZI')}, 'FRIEND'),\n",
    "                (033, {find_id('JINGTONG DOU')}, {find_id('XUN ZHOU')}, 'FRIEND'),\n",
    "                (034, {find_id('YAPENG LI')}, {find_id('FEI WANG')}, 'EXSPOUSE'),\n",
    "                (035, {find_id('YAPENG LI')}, {find_id('XUN ZHOU')}, 'EXLOVER'),\n",
    "                (036, {find_id('YAPENG LI')}, {find_id('YING QU')}, 'EXLOVER'),\n",
    "                (037, {find_id('MAI ZI')}, {find_id('JINGTONG DOU')}, 'FRIEND'),\n",
    "                (038, {find_id('MAI ZI')}, {find_id('JUE HUANG')}, 'WIFE'),\n",
    "                (039, {find_id('PENG DOU')}, {find_id('WEI DOU')}, 'BROTHER'),\n",
    "                (040, {find_id('PENG DOU')}, {find_id('XUN ZHOU')}, 'EXLOVER'),\n",
    "                (041, {find_id('XUN ZHOU')}, {find_id('NINGFENG SONG')}, 'EXLOVER'),\n",
    "                (042, {find_id('XUN ZHOU')}, {find_id('FEI WANG')}, 'FRIEND'),\n",
    "                (043, {find_id('XUN ZHOU')}, {find_id('YAPENG LI')}, 'EXLOVER'),\n",
    "                (044, {find_id('XUN ZHOU')}, {find_id('PENG DOU')}, 'EXLOVER'),\n",
    "                (045, {find_id('XUN ZHOU')}, {find_id('JUE HUANG')}, 'FRIEND'),\n",
    "                (046, {find_id('XUN ZHOU')}, {find_id('SHU PU')}, 'EXLOVER'),\n",
    "                (047, {find_id('XUN ZHOU')}, {find_id('SHUO WANG')}, 'EXLOVER'),\n",
    "                (048, {find_id('XUN ZHOU')}, {find_id('HONGSHENG JIA')}, 'EXLOVER'),\n",
    "                (049, {find_id('JUE HUANG')}, {find_id('MAI ZI')}, 'HUSBAND'),\n",
    "                (050, {find_id('JUE HUANG')}, {find_id('XUN ZHOU')}, 'FRIEND'),\n",
    "                (051, {find_id('JINGLEI XU')}, {find_id('JUE HUANG')}, 'EXLOVER'),\n",
    "                (052, {find_id('SHU PU')}, {find_id('XUN ZHOU')}, 'EXLOVER'),\n",
    "                (053, {find_id('SHUO WANG')}, {find_id('XUN ZHOU')}, 'EXLOVER'),\n",
    "                (054, {find_id('JINGLEI XU')}, {find_id('SU WANG')}, 'EXLOVER'),\n",
    "                (055, {find_id('YAN WANG')}, {find_id('SHUO WANG')}, 'STEP_MONTHER');\"\"\""
   ]
  },
  {
   "cell_type": "code",
   "execution_count": 7,
   "id": "d3889c7d",
   "metadata": {},
   "outputs": [
    {
     "ename": "IntegrityError",
     "evalue": "UNIQUE constraint failed: relationships.id",
     "output_type": "error",
     "traceback": [
      "\u001b[1;31m---------------------------------------------------------------------------\u001b[0m",
      "\u001b[1;31mIntegrityError\u001b[0m                            Traceback (most recent call last)",
      "Input \u001b[1;32mIn [7]\u001b[0m, in \u001b[0;36m<module>\u001b[1;34m\u001b[0m\n\u001b[1;32m----> 1\u001b[0m \u001b[43mcursor\u001b[49m\u001b[38;5;241;43m.\u001b[39;49m\u001b[43mexecute\u001b[49m\u001b[43m(\u001b[49m\u001b[43mquery\u001b[49m\u001b[43m)\u001b[49m\n",
      "\u001b[1;31mIntegrityError\u001b[0m: UNIQUE constraint failed: relationships.id"
     ]
    }
   ],
   "source": [
    "cursor.execute(query)  # has imported all the data."
   ]
  },
  {
   "cell_type": "code",
   "execution_count": null,
   "id": "3655c6cd",
   "metadata": {},
   "outputs": [],
   "source": [
    "sql_connect.commit()"
   ]
  },
  {
   "cell_type": "markdown",
   "id": "70f72f3d",
   "metadata": {},
   "source": [
    "Let's import all the data from SQLite3.                       "
   ]
  },
  {
   "cell_type": "code",
   "execution_count": 8,
   "id": "b99ecd1b",
   "metadata": {},
   "outputs": [],
   "source": [
    "query = \"\"\"select * from people;\"\"\""
   ]
  },
  {
   "cell_type": "code",
   "execution_count": 9,
   "id": "f71f64c0",
   "metadata": {},
   "outputs": [],
   "source": [
    "people = pd.read_sql_query(query, sql_connect)"
   ]
  },
  {
   "cell_type": "code",
   "execution_count": 10,
   "id": "ba59e9ae",
   "metadata": {},
   "outputs": [
    {
     "name": "stdout",
     "output_type": "stream",
     "text": [
      "   id          name occupation\n",
      "0   1      FEI WANG     SINGER\n",
      "1   2       WEI DOU     SINGER\n",
      "2   3      XUN ZHOU      ACTOR\n",
      "3   4  JINGTONG DOU     SINGER\n",
      "4   5      YUAN GAO    UNKNOWN\n"
     ]
    }
   ],
   "source": [
    "print(people.head())"
   ]
  },
  {
   "cell_type": "code",
   "execution_count": 11,
   "id": "aaf02e61",
   "metadata": {},
   "outputs": [],
   "source": [
    "query = \"\"\"select * from relationships;\"\"\""
   ]
  },
  {
   "cell_type": "code",
   "execution_count": 12,
   "id": "38d144bf",
   "metadata": {},
   "outputs": [],
   "source": [
    "relationships = pd.read_sql_query(query, sql_connect)"
   ]
  },
  {
   "cell_type": "code",
   "execution_count": 13,
   "id": "87fdd728",
   "metadata": {},
   "outputs": [
    {
     "name": "stdout",
     "output_type": "stream",
     "text": [
      "   id  id_1  id_2 relationship\n",
      "0   1     1     2     EXSPOUSE\n",
      "1   2     2     4       FATHER\n",
      "2   3     3     4      FRIENDS\n",
      "3   4     4     1     DAUGHTER\n",
      "4   5     5     6       SISTER\n"
     ]
    }
   ],
   "source": [
    "print(relationships.head())"
   ]
  },
  {
   "cell_type": "markdown",
   "id": "9896a01a",
   "metadata": {},
   "source": [
    "Let's use the dijkstras method to calculate the shortest distance."
   ]
  },
  {
   "cell_type": "code",
   "execution_count": 15,
   "id": "90319b59",
   "metadata": {},
   "outputs": [],
   "source": [
    "# the first method we tried, then we found it was wrong.\n",
    "graph = dict()\n",
    "rela = dict()\n",
    "for i, j, k in zip(relationships['id_1'], relationships['id_2'], relationships['relationship']):\n",
    "    rela[j] = k\n",
    "    graph[i] = rela #here is wrong. The dict value will be repalced and become the same for each graph[i]."
   ]
  },
  {
   "cell_type": "code",
   "execution_count": 37,
   "id": "eb7baf6e",
   "metadata": {},
   "outputs": [
    {
     "ename": "KeyError",
     "evalue": "1999",
     "output_type": "error",
     "traceback": [
      "\u001b[1;31m---------------------------------------------------------------------------\u001b[0m",
      "\u001b[1;31mKeyError\u001b[0m                                  Traceback (most recent call last)",
      "Input \u001b[1;32mIn [37]\u001b[0m, in \u001b[0;36m<module>\u001b[1;34m\u001b[0m\n\u001b[0;32m      4\u001b[0m d \u001b[38;5;241m=\u001b[39m {}\n\u001b[0;32m      5\u001b[0m \u001b[38;5;28;01massert\u001b[39;00m \u001b[38;5;28mint\u001b[39m() \u001b[38;5;241m==\u001b[39m \u001b[38;5;241m0\u001b[39m\n\u001b[1;32m----> 6\u001b[0m \u001b[38;5;28mprint\u001b[39m(\u001b[43md\u001b[49m\u001b[43m[\u001b[49m\u001b[38;5;241;43m1999\u001b[39;49m\u001b[43m]\u001b[49m)\n",
      "\u001b[1;31mKeyError\u001b[0m: 1999"
     ]
    }
   ],
   "source": [
    "# Let's use an example to show the usage of defaultdict\n",
    "from collections import defaultdict\n",
    "\n",
    "#d = defaultdict(int)\n",
    "d = {}\n",
    "#assert int() == 0\n",
    "print(d[1999])"
   ]
  },
  {
   "cell_type": "markdown",
   "id": "881be6ff",
   "metadata": {},
   "source": [
    "Then we find the right way to get graph.(use a dict of dict)"
   ]
  },
  {
   "cell_type": "code",
   "execution_count": 45,
   "id": "737e21a9",
   "metadata": {},
   "outputs": [
    {
     "data": {
      "text/plain": [
       "defaultdict(dict,\n",
       "            {1: {2: 'EXSPOUSE',\n",
       "              11: 'LOVER',\n",
       "              4: 'MOTHER',\n",
       "              3: 'FRIEND',\n",
       "              15: 'EXSPOUSE',\n",
       "              13: 'EXLOVER'},\n",
       "             2: {4: 'FATHER',\n",
       "              5: 'EXSPOUSE',\n",
       "              9: 'BROTHER',\n",
       "              1: 'EXSPOUSE',\n",
       "              13: 'EXFRIEND',\n",
       "              18: 'BROTHER'},\n",
       "             3: {4: 'FRIENDS',\n",
       "              6: 'EXLOVER',\n",
       "              1: 'FRIEND',\n",
       "              15: 'EXLOVER',\n",
       "              18: 'EXLOVER',\n",
       "              19: 'FRIEND',\n",
       "              21: 'EXLOVER',\n",
       "              22: 'EXLOVER',\n",
       "              25: 'EXLOVER'},\n",
       "             4: {1: 'DAUGHTER', 2: 'DAUGHTER', 17: 'FRIEND', 3: 'FRIEND'},\n",
       "             5: {6: 'SISTER', 2: 'EXSPOUSE'},\n",
       "             6: {3: 'EXLOVER', 7: 'EXSPOUSE', 5: 'BROTHER'},\n",
       "             7: {6: 'EXSPOUSE'},\n",
       "             8: {10: 'EXLOVER', 9: 'EXSPOUSE', 16: 'EXLOVER'},\n",
       "             9: {8: 'EXSPOUSE', 2: 'EXSPOUSE'},\n",
       "             12: {11: 'EXFRIEND'},\n",
       "             11: {1: 'LOVER', 12: 'EXFRIEND'},\n",
       "             13: {1: 'EXLOVER', 2: 'EXFRIEND'},\n",
       "             15: {1: 'EXSPOUSE', 3: 'EXLOVER', 16: 'EXLOVER'},\n",
       "             17: {4: 'FRIEND', 19: 'WIFE'},\n",
       "             18: {2: 'BROTHER', 3: 'EXLOVER'},\n",
       "             19: {17: 'HUSBAND', 3: 'FRIEND'},\n",
       "             20: {19: 'EXLOVER', 23: 'EXLOVER'},\n",
       "             21: {3: 'EXLOVER'},\n",
       "             22: {3: 'EXLOVER'},\n",
       "             24: {22: 'STEP_MONTHER'}})"
      ]
     },
     "execution_count": 45,
     "metadata": {},
     "output_type": "execute_result"
    }
   ],
   "source": [
    "from collections import defaultdict\n",
    "graph = defaultdict(dict)  # graph[1] = {}, assert dict() == {}\n",
    "for i, j, k in zip(relationships['id_1'], relationships['id_2'], relationships['relationship']):\n",
    "    graph[i][j] = k\n",
    "graph"
   ]
  },
  {
   "cell_type": "markdown",
   "id": "a850c2d5",
   "metadata": {},
   "source": [
    "Using the dijkstras method to calculate the shortest path.\n",
    "First, initialize the source code."
   ]
  },
  {
   "cell_type": "code",
   "execution_count": 47,
   "id": "0a44f14e",
   "metadata": {},
   "outputs": [],
   "source": [
    "initial = 1\n",
    "path = defaultdict(lambda: float('inf')) #means the distance from initial to a node. #still use the defaultdict to solve the none key problem.\n",
    "adj_node = {} #means the node around one node. and also label the path: from the value node to get to the key node. \n",
    "queue = [] #to visit every node in the graph."
   ]
  },
  {
   "cell_type": "markdown",
   "id": "b998f6db",
   "metadata": {},
   "source": [
    "Create a loop to make sure that every node in the graph is visited. \n",
    "And set the path[initial] to zero."
   ]
  },
  {
   "cell_type": "code",
   "execution_count": 48,
   "id": "d5233cff",
   "metadata": {},
   "outputs": [
    {
     "data": {
      "text/plain": [
       "defaultdict(<function __main__.<lambda>()>,\n",
       "            {1: 0,\n",
       "             2: inf,\n",
       "             3: inf,\n",
       "             4: inf,\n",
       "             5: inf,\n",
       "             6: inf,\n",
       "             7: inf,\n",
       "             8: inf,\n",
       "             9: inf,\n",
       "             12: inf,\n",
       "             11: inf,\n",
       "             13: inf,\n",
       "             15: inf,\n",
       "             17: inf,\n",
       "             18: inf,\n",
       "             19: inf,\n",
       "             20: inf,\n",
       "             21: inf,\n",
       "             22: inf,\n",
       "             24: inf})"
      ]
     },
     "execution_count": 48,
     "metadata": {},
     "output_type": "execute_result"
    }
   ],
   "source": [
    "for node in graph:\n",
    "    path[node] = float('inf')\n",
    "    adj_node[node] = None\n",
    "    queue.append(node)\n",
    "\n",
    "path[initial] = 0\n",
    "path"
   ]
  },
  {
   "cell_type": "markdown",
   "id": "06ccca92",
   "metadata": {},
   "source": [
    "Create a while loop inside the queue to delete the visited nodes and to find the min distance between nodes."
   ]
  },
  {
   "cell_type": "code",
   "execution_count": 49,
   "id": "fef21a47",
   "metadata": {},
   "outputs": [],
   "source": [
    "while queue:\n",
    "    key_min = queue[0]\n",
    "    min_val = path[key_min]\n",
    "    for n in range(1, len(queue)):\n",
    "        if path[queue[n]] < min_val:\n",
    "            key_min = queue[n]\n",
    "            min_val = path[key_min]\n",
    "    cur = key_min\n",
    "    queue.remove(cur)\n",
    "    \n",
    "    for i in graph[cur]:\n",
    "        alternate = 1 + path[cur]\n",
    "        if path[i] > alternate:\n",
    "            path[i] = alternate\n",
    "            adj_node[i] = cur"
   ]
  },
  {
   "cell_type": "code",
   "execution_count": 50,
   "id": "013eb6b1",
   "metadata": {},
   "outputs": [
    {
     "data": {
      "text/plain": [
       "defaultdict(<function __main__.<lambda>()>,\n",
       "            {1: 0,\n",
       "             2: 1,\n",
       "             3: 1,\n",
       "             4: 1,\n",
       "             5: 2,\n",
       "             6: 2,\n",
       "             7: 3,\n",
       "             8: 3,\n",
       "             9: 2,\n",
       "             12: 2,\n",
       "             11: 1,\n",
       "             13: 1,\n",
       "             15: 1,\n",
       "             17: 2,\n",
       "             18: 2,\n",
       "             19: 2,\n",
       "             20: inf,\n",
       "             21: 2,\n",
       "             22: 2,\n",
       "             24: inf,\n",
       "             25: 2,\n",
       "             16: 2,\n",
       "             10: 4,\n",
       "             23: inf})"
      ]
     },
     "execution_count": 50,
     "metadata": {},
     "output_type": "execute_result"
    }
   ],
   "source": [
    "path"
   ]
  },
  {
   "cell_type": "code",
   "execution_count": 51,
   "id": "597bd7c0",
   "metadata": {},
   "outputs": [
    {
     "data": {
      "text/plain": [
       "{1: None,\n",
       " 2: 1,\n",
       " 3: 1,\n",
       " 4: 1,\n",
       " 5: 2,\n",
       " 6: 3,\n",
       " 7: 6,\n",
       " 8: 9,\n",
       " 9: 2,\n",
       " 12: 11,\n",
       " 11: 1,\n",
       " 13: 1,\n",
       " 15: 1,\n",
       " 17: 4,\n",
       " 18: 2,\n",
       " 19: 3,\n",
       " 20: None,\n",
       " 21: 3,\n",
       " 22: 3,\n",
       " 24: None,\n",
       " 25: 3,\n",
       " 16: 15,\n",
       " 10: 8}"
      ]
     },
     "execution_count": 51,
     "metadata": {},
     "output_type": "execute_result"
    }
   ],
   "source": [
    "adj_node"
   ]
  },
  {
   "cell_type": "markdown",
   "id": "daa63136",
   "metadata": {},
   "source": [
    "We have got the shortest path."
   ]
  },
  {
   "cell_type": "code",
   "execution_count": 54,
   "id": "307dbd6f",
   "metadata": {},
   "outputs": [
    {
     "name": "stdout",
     "output_type": "stream",
     "text": [
      "The relationship between 1 and 18\n",
      "\n"
     ]
    },
    {
     "data": {
      "text/plain": [
       "[18, 2, 1]"
      ]
     },
     "execution_count": 54,
     "metadata": {},
     "output_type": "execute_result"
    }
   ],
   "source": [
    "x = 18\n",
    "print(f'The relationship between {initial} and {x}')\n",
    "nodes = [x]\n",
    "while True:\n",
    "    x = adj_node[x]\n",
    "    if x is None:\n",
    "        print(\"\")\n",
    "        break\n",
    "    nodes.append(x)   \n",
    "nodes"
   ]
  },
  {
   "cell_type": "code",
   "execution_count": 65,
   "id": "965a23d9",
   "metadata": {},
   "outputs": [
    {
     "name": "stdout",
     "output_type": "stream",
     "text": [
      "The relationship between 1 and 18\n",
      "18<-\n"
     ]
    }
   ],
   "source": [
    "x = 18\n",
    "print(f'The relationship between {initial} and {x}')\n",
    "print(x, end = '<-')\n",
    "rela = [graph[adj_node[x]][x]]\n",
    "nodes = [x]\n",
    "m = x\n",
    "while True:\n",
    "    m = adj_node[m]\n",
    "    if adj_node[m] is None:\n",
    "        print(\"\")\n",
    "        break\n",
    "    i = graph[adj_node[m]][m]\n",
    "    rela.append(i)\n",
    "    nodes.append(m)   "
   ]
  },
  {
   "cell_type": "code",
   "execution_count": 66,
   "id": "5b632490",
   "metadata": {},
   "outputs": [],
   "source": [
    "rela = list(reversed(rela))\n",
    "nodes = list(reversed(nodes))"
   ]
  },
  {
   "cell_type": "code",
   "execution_count": 67,
   "id": "b049b7ab",
   "metadata": {},
   "outputs": [
    {
     "data": {
      "text/plain": [
       "list"
      ]
     },
     "execution_count": 67,
     "metadata": {},
     "output_type": "execute_result"
    }
   ],
   "source": [
    "type(rela)"
   ]
  },
  {
   "cell_type": "code",
   "execution_count": 61,
   "id": "95c37307",
   "metadata": {},
   "outputs": [
    {
     "data": {
      "text/plain": [
       "18"
      ]
     },
     "execution_count": 61,
     "metadata": {},
     "output_type": "execute_result"
    }
   ],
   "source": [
    "m\n",
    "x"
   ]
  },
  {
   "cell_type": "code",
   "execution_count": null,
   "id": "26d0dd83",
   "metadata": {},
   "outputs": [],
   "source": [
    "Reverse the list and we get the relationships between two nodes."
   ]
  },
  {
   "cell_type": "code",
   "execution_count": 68,
   "id": "0aa5dbcb",
   "metadata": {},
   "outputs": [
    {
     "name": "stdout",
     "output_type": "stream",
     "text": [
      "The relationship between 1 and 18\n",
      "1->EXSPOUSE->2->BROTHER->18\n"
     ]
    }
   ],
   "source": [
    "print(f'The relationship between {initial} and {x}')\n",
    "print(initial, end = '->')\n",
    "for i in range(len(rela)):\n",
    "    print(rela[i], end = '->')\n",
    "    if i == len(rela) - 1:\n",
    "        print(nodes[i])\n",
    "    else:\n",
    "        print(nodes[i], end = '->') \n",
    "    "
   ]
  },
  {
   "cell_type": "code",
   "execution_count": 74,
   "id": "757bc082",
   "metadata": {},
   "outputs": [
    {
     "name": "stdout",
     "output_type": "stream",
     "text": [
      "FEI WANG\n"
     ]
    }
   ],
   "source": [
    "initial_name = people[people['id']==initial].squeeze()['name']\n",
    "print(initial_name)"
   ]
  },
  {
   "cell_type": "code",
   "execution_count": 73,
   "id": "85db6514",
   "metadata": {},
   "outputs": [
    {
     "name": "stdout",
     "output_type": "stream",
     "text": [
      "<class 'pandas.core.frame.DataFrame'>\n"
     ]
    }
   ],
   "source": [
    "print(type(people[people['id']==initial]))"
   ]
  },
  {
   "cell_type": "code",
   "execution_count": 72,
   "id": "dc0472dd",
   "metadata": {},
   "outputs": [
    {
     "name": "stdout",
     "output_type": "stream",
     "text": [
      "<class 'pandas.core.series.Series'>\n"
     ]
    }
   ],
   "source": [
    "print(type(initial_name))"
   ]
  },
  {
   "cell_type": "markdown",
   "id": "a02e633a",
   "metadata": {},
   "source": [
    "Last, we turned id to real name."
   ]
  },
  {
   "cell_type": "code",
   "execution_count": 75,
   "id": "b17f7e08",
   "metadata": {},
   "outputs": [
    {
     "name": "stdout",
     "output_type": "stream",
     "text": [
      "The relationship between FEI WANG and PENG DOU\n",
      "FEI WANG->EXSPOUSE->WEI DOU->BROTHER->PENG DOU\n"
     ]
    }
   ],
   "source": [
    "initial_name = people[people['id']==initial].squeeze()['name']\n",
    "x_name = people[people['id']==x].squeeze()['name']\n",
    "print(f'The relationship between {initial_name} and {x_name}')\n",
    "print(initial_name, end = '->')\n",
    "for i in range(len(rela)):\n",
    "    print(rela[i], end = '->')\n",
    "    name = people[people['id']==nodes[i]].squeeze()['name']\n",
    "    if i == len(rela) - 1:\n",
    "        print(name)\n",
    "    else:\n",
    "        print(name, end = '->') \n",
    "    "
   ]
  },
  {
   "cell_type": "markdown",
   "id": "aad76acd",
   "metadata": {},
   "source": [
    "# We'll put all these into a function."
   ]
  },
  {
   "cell_type": "markdown",
   "id": "478c1b91",
   "metadata": {},
   "source": [
    "First, we get the function to calculate the nearest path."
   ]
  },
  {
   "cell_type": "code",
   "execution_count": 76,
   "id": "df058771",
   "metadata": {},
   "outputs": [],
   "source": [
    "def dijk_path(graph, initial, x):\n",
    "    #initialize some variables\n",
    "    path = defaultdict(lambda: float('inf'))\n",
    "    adj_node = {}\n",
    "    queue = []\n",
    "    \n",
    "    #create a loop to initialize the value and set path[initial] to 0.\n",
    "    for node in graph:\n",
    "        path[node] = float('inf')\n",
    "        adj_node[node] = None\n",
    "        queue.append(node)\n",
    "\n",
    "    path[initial] = 0\n",
    "    \n",
    "    #Create a while loop inside the queue to delete the visited nodes and to find the min distance between nodes.\n",
    "    while queue:\n",
    "        key_min = queue[0]\n",
    "        min_val = path[key_min]\n",
    "        for n in range(1, len(queue)):\n",
    "            if path[queue[n]] < min_val:\n",
    "                key_min = queue[n]\n",
    "                min_val = path[key_min]\n",
    "        cur = key_min\n",
    "        queue.remove(cur)\n",
    "    \n",
    "        for i in graph[cur]:\n",
    "            alternate = 1 + path[cur]\n",
    "            if path[i] > alternate:\n",
    "                path[i] = alternate\n",
    "                adj_node[i] = cur\n",
    "    \n",
    "    #return the path of the nodes\n",
    "    nodes = [x]\n",
    "    while True:\n",
    "        x = adj_node[x]\n",
    "        if x is None:\n",
    "            break\n",
    "        nodes.append(x)\n",
    "    nodes = list(reversed(nodes))\n",
    "    return nodes"
   ]
  },
  {
   "cell_type": "markdown",
   "id": "50669a07",
   "metadata": {},
   "source": [
    "Then, we put all the calculation into a single function."
   ]
  },
  {
   "cell_type": "code",
   "execution_count": 81,
   "id": "32d46a65",
   "metadata": {},
   "outputs": [],
   "source": [
    "def relation(relation, people, initial, x):\n",
    "    from collections import defaultdict\n",
    "    graph = defaultdict(dict)  # graph[1] = {}, assert dict() == {}\n",
    "    for i, j, k in zip(relation['id_1'], relation['id_2'], relation['relationship']):\n",
    "        graph[i][j] = k\n",
    "    \n",
    "    nodes = dijk_path(graph, initial, x)\n",
    "    \n",
    "    initial_name = people[people['id']==initial].squeeze()['name']\n",
    "    x_name = people[people['id']==x].squeeze()['name']\n",
    "    print(f'The relationship between {initial_name} and {x_name} is:')\n",
    "    for i in range(len(nodes)):\n",
    "        name = people[people['id']==nodes[i]].squeeze()['name']\n",
    "        if i == len(nodes) - 1:\n",
    "            print(name)\n",
    "        else:\n",
    "            print(name , end = ' -> ')\n",
    "            print(graph[nodes[i]][nodes[i+1]], end = ' -> ')\n",
    "             "
   ]
  },
  {
   "cell_type": "code",
   "execution_count": 82,
   "id": "a7d9d46c",
   "metadata": {},
   "outputs": [
    {
     "name": "stdout",
     "output_type": "stream",
     "text": [
      "The relationship between WEI DOU and YADONG ZHANG is:\n",
      "WEI DOU -> BROTHER -> YING DOU -> EXSPOUSE -> YADONG ZHANG\n"
     ]
    }
   ],
   "source": [
    "relation(relationships, people, 2, 8)"
   ]
  }
 ],
 "metadata": {
  "kernelspec": {
   "display_name": "Python 3 (ipykernel)",
   "language": "python",
   "name": "python3"
  },
  "language_info": {
   "codemirror_mode": {
    "name": "ipython",
    "version": 3
   },
   "file_extension": ".py",
   "mimetype": "text/x-python",
   "name": "python",
   "nbconvert_exporter": "python",
   "pygments_lexer": "ipython3",
   "version": "3.10.2"
  }
 },
 "nbformat": 4,
 "nbformat_minor": 5
}
