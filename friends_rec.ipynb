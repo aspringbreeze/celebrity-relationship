{
 "cells": [
  {
   "cell_type": "code",
   "execution_count": 2,
   "id": "3c22c04f",
   "metadata": {},
   "outputs": [],
   "source": [
    "import sqlite3\n",
    "import pandas as pd"
   ]
  },
  {
   "cell_type": "code",
   "execution_count": 3,
   "id": "1b3239e3",
   "metadata": {},
   "outputs": [],
   "source": [
    "sql_connect = sqlite3.connect('people_info.db')\n",
    "cursor = sql_connect.cursor()"
   ]
  },
  {
   "cell_type": "code",
   "execution_count": 12,
   "id": "f68a2da9",
   "metadata": {},
   "outputs": [],
   "source": [
    "def find_id(name: str):\n",
    "    query = f\"\"\"select id from people where name = '{name}';\"\"\"\n",
    "    results = cursor.execute(query).fetchone()\n",
    "    idx = results[0]\n",
    "    return idx"
   ]
  },
  {
   "cell_type": "code",
   "execution_count": 13,
   "id": "1ef9334d",
   "metadata": {},
   "outputs": [
    {
     "data": {
      "text/plain": [
       "1"
      ]
     },
     "execution_count": 13,
     "metadata": {},
     "output_type": "execute_result"
    }
   ],
   "source": [
    "a = find_id('FEI WANG')\n",
    "a"
   ]
  },
  {
   "cell_type": "code",
   "execution_count": 16,
   "id": "5b6a9a9c",
   "metadata": {},
   "outputs": [],
   "source": [
    "query = f\"\"\"INSERT INTO relationships(id, id_1, id_2, relationship)\n",
    "            VALUES\n",
    "                (009, {find_id('NINGFENG SONG')}, {find_id('XI QI')}, 'EXSPOUSE'),\n",
    "                (010, {find_id('NINGFENG SONG')}, {find_id('YUAN GAO')}, 'BROTHER'),\n",
    "                (011, {find_id('YADONG ZHANG')}, {find_id('YUANYUAN GAO')}, 'EXLOVER'),\n",
    "                (012, {find_id('YADONG ZHANG')}, {find_id('YING DOU')}, 'EXSPOUSE'),\n",
    "                (013, {find_id('YADONG ZHANG')}, {find_id('YING QU')}, 'EXLOVER'),\n",
    "                (014, {find_id('YING DOU')}, {find_id('YADONG ZHANG')}, 'EXSPOUSE'),\n",
    "                (015, {find_id('YING DOU')}, {find_id('WEI DOU')}, 'EXSPOUSE'),\n",
    "                (016, {find_id('WEI DOU')}, {find_id('YUAN GAO')}, 'EXSPOUSE'),\n",
    "                (017, {find_id('WEI DOU')}, {find_id('YING DOU')}, 'BROTHER'),\n",
    "                (018, {find_id('WEI DOU')}, {find_id('FEI WANG')}, 'EXSPOUSE'),\n",
    "                (019, {find_id('WEI DOU')}, {find_id('SHU LUAN')}, 'EXFRIEND'),\n",
    "                (020, {find_id('WEI DOU')}, {find_id('PENG DOU')}, 'BROTHER'),\n",
    "                (021, {find_id('FEI WANG')}, {find_id('TINGFENG XIE')}, 'LOVER'),\n",
    "                (022, {find_id('FEI WANG')}, {find_id('JINGTONG DOU')}, 'MOTHER'),\n",
    "                (023, {find_id('FEI WANG')}, {find_id('XUN ZHOU')}, 'FRIEND'),\n",
    "                (024, {find_id('FEI WANG')}, {find_id('YAPENG LI')}, 'EXSPOUSE'),\n",
    "                (025, {find_id('FEI WANG')}, {find_id('SHU LUAN')}, 'EXLOVER'),\n",
    "                (026, {find_id('GUANXI CHEN')}, {find_id('TINGFENG XIE')}, 'EXFRIEND'),\n",
    "                (027, {find_id('TINGFENG XIE')}, {find_id('FEI WANG')}, 'LOVER'),\n",
    "                (028, {find_id('TINGFENG XIE')}, {find_id('GUANXI CHEN')}, 'EXFRIEND'),\n",
    "                (029, {find_id('SHU LUAN')}, {find_id('FEI WANG')}, 'EXLOVER'),\n",
    "                (030, {find_id('SHU LUAN')}, {find_id('WEI DOU')}, 'EXFRIEND'),\n",
    "                (031, {find_id('JINGTONG DOU')}, {find_id('WEI DOU')}, 'DAUGHTER'),\n",
    "                (032, {find_id('JINGTONG DOU')}, {find_id('MAI ZI')}, 'FRIEND'),\n",
    "                (033, {find_id('JINGTONG DOU')}, {find_id('XUN ZHOU')}, 'FRIEND'),\n",
    "                (034, {find_id('YAPENG LI')}, {find_id('FEI WANG')}, 'EXSPOUSE'),\n",
    "                (035, {find_id('YAPENG LI')}, {find_id('XUN ZHOU')}, 'EXLOVER'),\n",
    "                (036, {find_id('YAPENG LI')}, {find_id('YING QU')}, 'EXLOVER'),\n",
    "                (037, {find_id('MAI ZI')}, {find_id('JINGTONG DOU')}, 'FRIEND'),\n",
    "                (038, {find_id('MAI ZI')}, {find_id('JUE HUANG')}, 'WIFE'),\n",
    "                (039, {find_id('PENG DOU')}, {find_id('WEI DOU')}, 'BROTHER'),\n",
    "                (040, {find_id('PENG DOU')}, {find_id('XUN ZHOU')}, 'EXLOVER'),\n",
    "                (041, {find_id('XUN ZHOU')}, {find_id('NINGFENG SONG')}, 'EXLOVER'),\n",
    "                (042, {find_id('XUN ZHOU')}, {find_id('FEI WANG')}, 'FRIEND'),\n",
    "                (043, {find_id('XUN ZHOU')}, {find_id('YAPENG LI')}, 'EXLOVER'),\n",
    "                (044, {find_id('XUN ZHOU')}, {find_id('PENG DOU')}, 'EXLOVER'),\n",
    "                (045, {find_id('XUN ZHOU')}, {find_id('JUE HUANG')}, 'FRIEND'),\n",
    "                (046, {find_id('XUN ZHOU')}, {find_id('SHU PU')}, 'EXLOVER'),\n",
    "                (047, {find_id('XUN ZHOU')}, {find_id('SHUO WANG')}, 'EXLOVER'),\n",
    "                (048, {find_id('XUN ZHOU')}, {find_id('HONGSHENG JIA')}, 'EXLOVER'),\n",
    "                (049, {find_id('JUE HUANG')}, {find_id('MAI ZI')}, 'HUSBAND'),\n",
    "                (050, {find_id('JUE HUANG')}, {find_id('XUN ZHOU')}, 'FRIEND'),\n",
    "                (051, {find_id('JINGLEI XU')}, {find_id('JUE HUANG')}, 'EXLOVER'),\n",
    "                (052, {find_id('SHU PU')}, {find_id('XUN ZHOU')}, 'EXLOVER'),\n",
    "                (053, {find_id('SHUO WANG')}, {find_id('XUN ZHOU')}, 'EXLOVER'),\n",
    "                (054, {find_id('JINGLEI XU')}, {find_id('SU WANG')}, 'EXLOVER'),\n",
    "                (055, {find_id('YAN WANG')}, {find_id('SHUO WANG')}, 'STEP_MONTHER');\"\"\""
   ]
  },
  {
   "cell_type": "code",
   "execution_count": 17,
   "id": "d3889c7d",
   "metadata": {},
   "outputs": [
    {
     "data": {
      "text/plain": [
       "<sqlite3.Cursor at 0x1f2ceb0f340>"
      ]
     },
     "execution_count": 17,
     "metadata": {},
     "output_type": "execute_result"
    }
   ],
   "source": [
    "cursor.execute(query)"
   ]
  },
  {
   "cell_type": "code",
   "execution_count": 18,
   "id": "3655c6cd",
   "metadata": {},
   "outputs": [],
   "source": [
    "sql_connect.commit()"
   ]
  }
 ],
 "metadata": {
  "kernelspec": {
   "display_name": "Python 3 (ipykernel)",
   "language": "python",
   "name": "python3"
  },
  "language_info": {
   "codemirror_mode": {
    "name": "ipython",
    "version": 3
   },
   "file_extension": ".py",
   "mimetype": "text/x-python",
   "name": "python",
   "nbconvert_exporter": "python",
   "pygments_lexer": "ipython3",
   "version": "3.10.2"
  }
 },
 "nbformat": 4,
 "nbformat_minor": 5
}
